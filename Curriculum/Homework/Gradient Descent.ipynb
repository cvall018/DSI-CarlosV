{
 "cells": [
  {
   "cell_type": "markdown",
   "metadata": {},
   "source": [
    "### Exercise\n",
    "\n",
    "Similarly, use the function $f(x) = x^4 - 2* x^2 + x +1$ and apply gradient descent. If you need help with the derivative, you can use [Wolfram Alpha](http://www.wolframalpha.com/calculators/derivative-calculator/).\n",
    "\n",
    "Steps:\n",
    "* Plot the function and identify the two minima\n",
    "* Compute the derivative\n",
    "* Using gradient descent, find two starting points that converge to different minima\n",
    "\n",
    "Questions:\n",
    "* What does this tell you about the end result of gradient descent?\n",
    "* What are the implications for putting gradient descent into practice?"
   ]
  },
  {
   "cell_type": "code",
   "execution_count": 86,
   "metadata": {
    "collapsed": true
   },
   "outputs": [],
   "source": [
    "% matplotlib inline\n",
    "import random\n",
    "import pandas as pd\n",
    "from scipy import stats\n",
    "from sklearn import datasets, linear_model\n",
    "import numpy as np\n",
    "import matplotlib.pyplot as plt"
   ]
  },
  {
   "cell_type": "code",
   "execution_count": 119,
   "metadata": {
    "collapsed": true
   },
   "outputs": [],
   "source": [
    "# The function we want to test\n",
    "def func(x): return (4*x*x*x*x)-2*(x*x)+x+1\n",
    "def gradient(x): return 4*(x*x*x)-(4*x)+1\n",
    "\n",
    "# Gradient descent equation\n",
    "def gradient_descent(gradient_func, x, l):\n",
    "    vector = np.array(x)\n",
    "    g = gradient_func(x)\n",
    "    return vector - l * np.array(gradient(x))\n",
    "\n",
    "# Loop to iterate through the gradient descent function\n",
    "def iterate(gradient, x0, n=10):\n",
    "    xs = [x0]\n",
    "    ys = [func(x0)]\n",
    "    for i in range(n):\n",
    "        x = gradient_descent(gradient, xs[-1], l=0.01) #learning rate of 0.01\n",
    "        xs.append(x)\n",
    "        ys.append(func(x))\n",
    "    return xs, ys"
   ]
  },
  {
   "cell_type": "code",
   "execution_count": 138,
   "metadata": {
    "collapsed": false
   },
   "outputs": [
    {
     "name": "stdout",
     "output_type": "stream",
     "text": [
      "-1.10715987169\n",
      "0.837565435283\n"
     ]
    },
    {
     "data": {
      "image/png": "[encoded data removed]",
      "text/plain": [
       "<matplotlib.figure.Figure at 0x12b2ee1d0>"
      ]
     },
     "metadata": {},
     "output_type": "display_data"
    }
   ],
   "source": [
    "xs = np.linspace(-1.6, 1.6, 100)\n",
    "ys = func(xs)\n",
    "\n",
    "plt.scatter(xs, ys)\n",
    "\n",
    "# Start gradient descent at x = -0.5 with 1000 iterations\n",
    "xs, ys = iterate(gradient, -0.5, n=1000)\n",
    "plt.scatter(xs, ys, c='r', s=50)\n",
    "print min (xs)\n",
    "\n",
    "# Start gradient descent at x = 1.5 with 1000 iterations\n",
    "xs, ys = iterate(gradient, 1.5, n=1000)\n",
    "plt.scatter(xs, ys, c='y', s=100)\n",
    "print min(xs)\n"
   ]
  },
  {
   "cell_type": "code",
   "execution_count": 139,
   "metadata": {
    "collapsed": false
   },
   "outputs": [
    {
     "name": "stdout",
     "output_type": "stream",
     "text": [
      "/Users/Beto/Documents/DSI-ATL-1/curriculum/03-lessons/week-03/4.1-lesson/code/starter-code\r\n"
     ]
    }
   ],
   "source": [
    "!pwd"
   ]
  },
  {
   "cell_type": "code",
   "execution_count": null,
   "metadata": {
    "collapsed": false
   },
   "outputs": [],
   "source": []
  },
  {
   "cell_type": "code",
   "execution_count": null,
   "metadata": {
    "collapsed": false
   },
   "outputs": [],
   "source": []
  },
  {
   "cell_type": "code",
   "execution_count": null,
   "metadata": {
    "collapsed": true
   },
   "outputs": [],
   "source": []
  }
 ],
 "metadata": {
  "kernelspec": {
   "display_name": "Python 2",
   "language": "python",
   "name": "python2"
  },
  "language_info": {
   "codemirror_mode": {
    "name": "ipython",
    "version": 2
   },
   "file_extension": ".py",
   "mimetype": "text/x-python",
   "name": "python",
   "nbconvert_exporter": "python",
   "pygments_lexer": "ipython2",
   "version": "2.7.11"
  }
 },
 "nbformat": 4,
 "nbformat_minor": 0
}
