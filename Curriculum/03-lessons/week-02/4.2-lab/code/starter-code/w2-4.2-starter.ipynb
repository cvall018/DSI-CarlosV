{
 "cells": [
  {
   "cell_type": "code",
   "execution_count": 1,
   "metadata": {
    "collapsed": false
   },
   "outputs": [],
   "source": [
    "import scipy as sp\n",
    "import numpy as np\n",
    "import matplotlib as mpl\n",
    "import matplotlib.pyplot as plt\n",
    "from scipy import stats\n",
    "from scipy.stats import norm"
   ]
  },
  {
   "cell_type": "code",
   "execution_count": 15,
   "metadata": {
    "collapsed": false
   },
   "outputs": [
    {
     "name": "stdout",
     "output_type": "stream",
     "text": [
      "0.167118867167 0.895111706351\n",
      "[ 0.02596802  0.02462025  0.06213372  0.13726484 -0.73311479  1.66082673\n",
      "  0.0513094   1.07122709 -1.30076542 -0.50612711  0.27112849  2.12975015\n",
      "  0.12060435 -1.45723182 -0.81109912  0.00682024  1.43715466 -0.52493563\n",
      " -0.33897999  0.64496459  0.36720337 -0.80931669  0.49556947  0.77809808\n",
      " -1.17738509 -0.34806829 -0.10885567  2.00811508 -0.56558494  1.01264274\n",
      "  1.35482549  0.64921889 -0.11155922 -1.12853691 -0.94153283  0.44618416\n",
      " -0.19478765  0.91358399 -0.08031099  0.26683688  1.71877435 -1.41012247\n",
      "  1.67404849 -0.48688157  0.52616933  0.66202099  0.14412341  0.91737712\n",
      "  0.63717454 -0.82459937]\n"
     ]
    }
   ],
   "source": [
    "# Generate a sequence of random variates, use the \n",
    "# random_state parameter which accepts an instance of \n",
    "# numpy.random.RandomState class, or an integer which is then used \n",
    "# to seed an internal RandomState object\n",
    "# example: random = norm.rvs(size=5, random_state=1234)\n",
    "random = norm.rvs(size=50)\n",
    "print random.mean(), random.std()\n",
    "print random"
   ]
  },
  {
   "cell_type": "code",
   "execution_count": 30,
   "metadata": {
    "collapsed": false
   },
   "outputs": [
    {
     "name": "stdout",
     "output_type": "stream",
     "text": [
      "-0.0649649225857 0.976741433977\n"
     ]
    }
   ],
   "source": [
    "pseudoRandom = norm.rvs(size=500, random_state=7) #We use random_state so that we are constant with the numbers generated\n",
    "print pseudoRandom.mean(), pseudoRandom.std()\n"
   ]
  },
  {
   "cell_type": "code",
   "execution_count": 9,
   "metadata": {
    "collapsed": false
   },
   "outputs": [],
   "source": [
    "# Use scipy.stats 'describe' to find: number of elements, min, max, \n",
    "# variance, skew, and kurtosis. Let's take a look."
   ]
  },
  {
   "cell_type": "code",
   "execution_count": 33,
   "metadata": {
    "collapsed": false
   },
   "outputs": [
    {
     "data": {
      "text/plain": [
       "DescribeResult(nobs=500, minmax=(-3.082504765717661, 2.8610671907227583), mean=-0.064964922585672824, variance=0.95593570024843366, skewness=-0.09212230349705935, kurtosis=-0.022933248503745673)"
      ]
     },
     "execution_count": 33,
     "metadata": {},
     "output_type": "execute_result"
    }
   ],
   "source": [
    "stats.describe(pseudoRandom)"
   ]
  },
  {
   "cell_type": "code",
   "execution_count": 32,
   "metadata": {
    "collapsed": false
   },
   "outputs": [
    {
     "name": "stdout",
     "output_type": "stream",
     "text": [
      "0.97771964297\n"
     ]
    }
   ],
   "source": [
    "print np.std(pseudoRandom, ddof=1)"
   ]
  },
  {
   "cell_type": "code",
   "execution_count": null,
   "metadata": {
    "collapsed": true
   },
   "outputs": [],
   "source": []
  }
 ],
 "metadata": {
  "kernelspec": {
   "display_name": "Python 2",
   "language": "python",
   "name": "python2"
  },
  "language_info": {
   "codemirror_mode": {
    "name": "ipython",
    "version": 2
   },
   "file_extension": ".py",
   "mimetype": "text/x-python",
   "name": "python",
   "nbconvert_exporter": "python",
   "pygments_lexer": "ipython2",
   "version": "2.7.11"
  }
 },
 "nbformat": 4,
 "nbformat_minor": 0
}
