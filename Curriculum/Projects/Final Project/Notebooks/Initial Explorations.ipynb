{
 "cells": [
  {
   "cell_type": "markdown",
   "metadata": {},
   "source": [
    "# Initial Explorations"
   ]
  },
  {
   "cell_type": "markdown",
   "metadata": {},
   "source": [
    "The main purpose of this project is to learn about what drives the price of pork in Colombia and be able to make demand predictions based on data found from different sources. The first question I wanted to answer was if there was a way to measure the price pork is sold in Colombia. Fortunaetly, there is an association in Colombia that tracks this http://asoporcicultores.co/. After talking with one of the representatives I was able to obtain two datasets. The datasets are different in that one shows the price of pork/Kg before the animal is sacrificed and the other after. Since the company I'm working with sacrifice their animals, we are going to use the second dataset. I will still use the other data later to see if it is recomendable that they sell without sacrificing."
   ]
  },
  {
   "cell_type": "code",
   "execution_count": 2,
   "metadata": {
    "collapsed": true
   },
   "outputs": [],
   "source": [
    "import pandas as pd\n",
    "import numpy as np"
   ]
  },
  {
   "cell_type": "code",
   "execution_count": 6,
   "metadata": {
    "collapsed": false
   },
   "outputs": [
    {
     "data": {
      "text/html": [
       "<div>\n",
       "<table border=\"1\" class=\"dataframe\">\n",
       "  <thead>\n",
       "    <tr style=\"text-align: right;\">\n",
       "      <th></th>\n",
       "      <th>Date</th>\n",
       "      <th>Antioquia</th>\n",
       "      <th>Eje</th>\n",
       "      <th>Bogot�</th>\n",
       "      <th>Valle</th>\n",
       "      <th>Nacional</th>\n",
       "    </tr>\n",
       "  </thead>\n",
       "  <tbody>\n",
       "    <tr>\n",
       "      <th>0</th>\n",
       "      <td>8-Jan-10</td>\n",
       "      <td>6462.33</td>\n",
       "      <td>6189.75</td>\n",
       "      <td>6115.75</td>\n",
       "      <td>NaN</td>\n",
       "      <td>6229.16</td>\n",
       "    </tr>\n",
       "    <tr>\n",
       "      <th>1</th>\n",
       "      <td>15-Jan-10</td>\n",
       "      <td>6438.47</td>\n",
       "      <td>6091.18</td>\n",
       "      <td>6214.40</td>\n",
       "      <td>NaN</td>\n",
       "      <td>6194.56</td>\n",
       "    </tr>\n",
       "    <tr>\n",
       "      <th>2</th>\n",
       "      <td>22-Jan-10</td>\n",
       "      <td>6321.18</td>\n",
       "      <td>6162.45</td>\n",
       "      <td>6256.79</td>\n",
       "      <td>NaN</td>\n",
       "      <td>6221.21</td>\n",
       "    </tr>\n",
       "    <tr>\n",
       "      <th>3</th>\n",
       "      <td>29-Jan-10</td>\n",
       "      <td>6259.65</td>\n",
       "      <td>6110.11</td>\n",
       "      <td>6351.40</td>\n",
       "      <td>NaN</td>\n",
       "      <td>6186.28</td>\n",
       "    </tr>\n",
       "    <tr>\n",
       "      <th>4</th>\n",
       "      <td>5-Feb-10</td>\n",
       "      <td>6239.19</td>\n",
       "      <td>6127.92</td>\n",
       "      <td>6287.73</td>\n",
       "      <td>NaN</td>\n",
       "      <td>6189.93</td>\n",
       "    </tr>\n",
       "  </tbody>\n",
       "</table>\n",
       "</div>"
      ],
      "text/plain": [
       "        Date  Antioquia      Eje   Bogot�  Valle  Nacional\n",
       "0   8-Jan-10    6462.33  6189.75  6115.75    NaN   6229.16\n",
       "1  15-Jan-10    6438.47  6091.18  6214.40    NaN   6194.56\n",
       "2  22-Jan-10    6321.18  6162.45  6256.79    NaN   6221.21\n",
       "3  29-Jan-10    6259.65  6110.11  6351.40    NaN   6186.28\n",
       "4   5-Feb-10    6239.19  6127.92  6287.73    NaN   6189.93"
      ]
     },
     "execution_count": 6,
     "metadata": {},
     "output_type": "execute_result"
    }
   ],
   "source": [
    "df = pd.read_csv('../Assets/Precio Semanal de Cerdo por Kg.csv')\n",
    "df.head()"
   ]
  },
  {
   "cell_type": "markdown",
   "metadata": {},
   "source": [
    "Looking at the head of the dataframe one can see that the columns need some renaming, the date needs to be formated into a python datetime and there are some NaN values in the data that need attention."
   ]
  },
  {
   "cell_type": "code",
   "execution_count": null,
   "metadata": {
    "collapsed": true
   },
   "outputs": [],
   "source": []
  }
 ],
 "metadata": {
  "kernelspec": {
   "display_name": "Python 2",
   "language": "python",
   "name": "python2"
  },
  "language_info": {
   "codemirror_mode": {
    "name": "ipython",
    "version": 2
   },
   "file_extension": ".py",
   "mimetype": "text/x-python",
   "name": "python",
   "nbconvert_exporter": "python",
   "pygments_lexer": "ipython2",
   "version": "2.7.12"
  }
 },
 "nbformat": 4,
 "nbformat_minor": 0
}
