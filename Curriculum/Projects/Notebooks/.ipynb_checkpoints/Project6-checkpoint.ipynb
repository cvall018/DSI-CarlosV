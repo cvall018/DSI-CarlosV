{
 "cells": [
  {
   "cell_type": "markdown",
   "metadata": {},
   "source": [
    "## Project 6"
   ]
  },
  {
   "cell_type": "code",
   "execution_count": 8,
   "metadata": {
    "collapsed": false
   },
   "outputs": [],
   "source": [
    "import os\n",
    "import subprocess\n",
    "import pandas as pd\n",
    "import numpy as np\n",
    "from sklearn.ensemble import RandomForestClassifier\n",
    "from sklearn.ensemble import RandomForestRegressor\n",
    "import scipy\n",
    "import requests\n",
    "from imdbpie import Imdb\n",
    "import nltk\n",
    "import matplotlib.pyplot as plt\n",
    "import urllib\n",
    "from bs4 import BeautifulSoup\n",
    "import nltk\n",
    "import collections\n",
    "import re\n",
    "import csv\n",
    "import psycopg2\n",
    "\n",
    "%matplotlib inline"
   ]
  },
  {
   "cell_type": "markdown",
   "metadata": {},
   "source": [
    "### Pre-Work: Write a problem statement "
   ]
  },
  {
   "cell_type": "markdown",
   "metadata": {},
   "source": [
    "    "
   ]
  },
  {
   "cell_type": "markdown",
   "metadata": {},
   "source": [
    "## Part 1: Acquire the Data"
   ]
  },
  {
   "cell_type": "markdown",
   "metadata": {},
   "source": [
    "#### 1. Connect to the IMDB API"
   ]
  },
  {
   "cell_type": "code",
   "execution_count": 2,
   "metadata": {
    "collapsed": false
   },
   "outputs": [],
   "source": [
    "imdb = Imdb()\n",
    "imdb = Imdb(anonymize=True)"
   ]
  },
  {
   "cell_type": "markdown",
   "metadata": {},
   "source": [
    "#### 2. Query the top 250 rated movies in the database"
   ]
  },
  {
   "cell_type": "code",
   "execution_count": 3,
   "metadata": {
    "collapsed": false
   },
   "outputs": [],
   "source": [
    "movies = pd.DataFrame(imdb.top_250())"
   ]
  },
  {
   "cell_type": "markdown",
   "metadata": {},
   "source": [
    "#### 3. Only select the top 25 movies and delete the uncessary rows"
   ]
  },
  {
   "cell_type": "code",
   "execution_count": 4,
   "metadata": {
    "collapsed": false
   },
   "outputs": [
    {
     "name": "stderr",
     "output_type": "stream",
     "text": [
      "/anaconda/lib/python2.7/site-packages/ipykernel/__main__.py:1: FutureWarning: sort(columns=....) is deprecated, use sort_values(by=.....)\n",
      "  if __name__ == '__main__':\n"
     ]
    },
    {
     "data": {
      "text/html": [
       "<div>\n",
       "<table border=\"1\" class=\"dataframe\">\n",
       "  <thead>\n",
       "    <tr style=\"text-align: right;\">\n",
       "      <th></th>\n",
       "      <th>can_rate</th>\n",
       "      <th>image</th>\n",
       "      <th>num_votes</th>\n",
       "      <th>rating</th>\n",
       "      <th>tconst</th>\n",
       "      <th>title</th>\n",
       "      <th>type</th>\n",
       "      <th>year</th>\n",
       "    </tr>\n",
       "  </thead>\n",
       "  <tbody>\n",
       "    <tr>\n",
       "      <th>0</th>\n",
       "      <td>True</td>\n",
       "      <td>{u'url': u'http://ia.media-imdb.com/images/M/M...</td>\n",
       "      <td>1676685</td>\n",
       "      <td>9.3</td>\n",
       "      <td>tt0111161</td>\n",
       "      <td>The Shawshank Redemption</td>\n",
       "      <td>feature</td>\n",
       "      <td>1994</td>\n",
       "    </tr>\n",
       "    <tr>\n",
       "      <th>1</th>\n",
       "      <td>True</td>\n",
       "      <td>{u'url': u'http://ia.media-imdb.com/images/M/M...</td>\n",
       "      <td>1147095</td>\n",
       "      <td>9.2</td>\n",
       "      <td>tt0068646</td>\n",
       "      <td>The Godfather</td>\n",
       "      <td>feature</td>\n",
       "      <td>1972</td>\n",
       "    </tr>\n",
       "    <tr>\n",
       "      <th>2</th>\n",
       "      <td>True</td>\n",
       "      <td>{u'url': u'http://ia.media-imdb.com/images/M/M...</td>\n",
       "      <td>784264</td>\n",
       "      <td>9.0</td>\n",
       "      <td>tt0071562</td>\n",
       "      <td>The Godfather: Part II</td>\n",
       "      <td>feature</td>\n",
       "      <td>1974</td>\n",
       "    </tr>\n",
       "    <tr>\n",
       "      <th>3</th>\n",
       "      <td>True</td>\n",
       "      <td>{u'url': u'http://ia.media-imdb.com/images/M/M...</td>\n",
       "      <td>1661873</td>\n",
       "      <td>9.0</td>\n",
       "      <td>tt0468569</td>\n",
       "      <td>The Dark Knight</td>\n",
       "      <td>feature</td>\n",
       "      <td>2008</td>\n",
       "    </tr>\n",
       "    <tr>\n",
       "      <th>7</th>\n",
       "      <td>True</td>\n",
       "      <td>{u'url': u'http://ia.media-imdb.com/images/M/M...</td>\n",
       "      <td>1206574</td>\n",
       "      <td>8.9</td>\n",
       "      <td>tt0167260</td>\n",
       "      <td>The Lord of the Rings: The Return of the King</td>\n",
       "      <td>feature</td>\n",
       "      <td>2003</td>\n",
       "    </tr>\n",
       "    <tr>\n",
       "      <th>9</th>\n",
       "      <td>True</td>\n",
       "      <td>{u'url': u'http://ia.media-imdb.com/images/M/M...</td>\n",
       "      <td>1336100</td>\n",
       "      <td>8.9</td>\n",
       "      <td>tt0137523</td>\n",
       "      <td>Fight Club</td>\n",
       "      <td>feature</td>\n",
       "      <td>1999</td>\n",
       "    </tr>\n",
       "    <tr>\n",
       "      <th>8</th>\n",
       "      <td>True</td>\n",
       "      <td>{u'url': u'http://ia.media-imdb.com/images/M/M...</td>\n",
       "      <td>499611</td>\n",
       "      <td>8.9</td>\n",
       "      <td>tt0060196</td>\n",
       "      <td>The Good, the Bad and the Ugly</td>\n",
       "      <td>feature</td>\n",
       "      <td>1966</td>\n",
       "    </tr>\n",
       "    <tr>\n",
       "      <th>6</th>\n",
       "      <td>True</td>\n",
       "      <td>{u'url': u'http://ia.media-imdb.com/images/M/M...</td>\n",
       "      <td>1314242</td>\n",
       "      <td>8.9</td>\n",
       "      <td>tt0110912</td>\n",
       "      <td>Pulp Fiction</td>\n",
       "      <td>feature</td>\n",
       "      <td>1994</td>\n",
       "    </tr>\n",
       "    <tr>\n",
       "      <th>5</th>\n",
       "      <td>True</td>\n",
       "      <td>{u'url': u'http://ia.media-imdb.com/images/M/M...</td>\n",
       "      <td>443388</td>\n",
       "      <td>8.9</td>\n",
       "      <td>tt0050083</td>\n",
       "      <td>12 Angry Men</td>\n",
       "      <td>feature</td>\n",
       "      <td>1957</td>\n",
       "    </tr>\n",
       "    <tr>\n",
       "      <th>4</th>\n",
       "      <td>True</td>\n",
       "      <td>{u'url': u'http://ia.media-imdb.com/images/M/M...</td>\n",
       "      <td>858071</td>\n",
       "      <td>8.9</td>\n",
       "      <td>tt0108052</td>\n",
       "      <td>Schindler's List</td>\n",
       "      <td>feature</td>\n",
       "      <td>1993</td>\n",
       "    </tr>\n",
       "    <tr>\n",
       "      <th>10</th>\n",
       "      <td>True</td>\n",
       "      <td>{u'url': u'http://ia.media-imdb.com/images/M/M...</td>\n",
       "      <td>1229882</td>\n",
       "      <td>8.8</td>\n",
       "      <td>tt0120737</td>\n",
       "      <td>The Lord of the Rings: The Fellowship of the Ring</td>\n",
       "      <td>feature</td>\n",
       "      <td>2001</td>\n",
       "    </tr>\n",
       "    <tr>\n",
       "      <th>11</th>\n",
       "      <td>True</td>\n",
       "      <td>{u'url': u'http://ia.media-imdb.com/images/M/M...</td>\n",
       "      <td>830523</td>\n",
       "      <td>8.8</td>\n",
       "      <td>tt0080684</td>\n",
       "      <td>Star Wars: Episode V - The Empire Strikes Back</td>\n",
       "      <td>feature</td>\n",
       "      <td>1980</td>\n",
       "    </tr>\n",
       "    <tr>\n",
       "      <th>12</th>\n",
       "      <td>True</td>\n",
       "      <td>{u'url': u'http://ia.media-imdb.com/images/M/M...</td>\n",
       "      <td>1239762</td>\n",
       "      <td>8.8</td>\n",
       "      <td>tt0109830</td>\n",
       "      <td>Forrest Gump</td>\n",
       "      <td>feature</td>\n",
       "      <td>1994</td>\n",
       "    </tr>\n",
       "    <tr>\n",
       "      <th>13</th>\n",
       "      <td>True</td>\n",
       "      <td>{u'url': u'http://ia.media-imdb.com/images/M/M...</td>\n",
       "      <td>1455311</td>\n",
       "      <td>8.8</td>\n",
       "      <td>tt1375666</td>\n",
       "      <td>Inception</td>\n",
       "      <td>feature</td>\n",
       "      <td>2010</td>\n",
       "    </tr>\n",
       "    <tr>\n",
       "      <th>18</th>\n",
       "      <td>True</td>\n",
       "      <td>{u'url': u'http://ia.media-imdb.com/images/M/M...</td>\n",
       "      <td>227402</td>\n",
       "      <td>8.7</td>\n",
       "      <td>tt0047478</td>\n",
       "      <td>Seven Samurai</td>\n",
       "      <td>feature</td>\n",
       "      <td>1954</td>\n",
       "    </tr>\n",
       "    <tr>\n",
       "      <th>20</th>\n",
       "      <td>True</td>\n",
       "      <td>{u'url': u'http://ia.media-imdb.com/images/M/M...</td>\n",
       "      <td>529453</td>\n",
       "      <td>8.7</td>\n",
       "      <td>tt0317248</td>\n",
       "      <td>City of God</td>\n",
       "      <td>feature</td>\n",
       "      <td>2002</td>\n",
       "    </tr>\n",
       "    <tr>\n",
       "      <th>19</th>\n",
       "      <td>True</td>\n",
       "      <td>{u'url': u'http://ia.media-imdb.com/images/M/M...</td>\n",
       "      <td>903984</td>\n",
       "      <td>8.7</td>\n",
       "      <td>tt0076759</td>\n",
       "      <td>Star Wars: Episode IV - A New Hope</td>\n",
       "      <td>feature</td>\n",
       "      <td>1977</td>\n",
       "    </tr>\n",
       "    <tr>\n",
       "      <th>14</th>\n",
       "      <td>True</td>\n",
       "      <td>{u'url': u'http://ia.media-imdb.com/images/M/M...</td>\n",
       "      <td>1091988</td>\n",
       "      <td>8.7</td>\n",
       "      <td>tt0167261</td>\n",
       "      <td>The Lord of the Rings: The Two Towers</td>\n",
       "      <td>feature</td>\n",
       "      <td>2002</td>\n",
       "    </tr>\n",
       "    <tr>\n",
       "      <th>17</th>\n",
       "      <td>True</td>\n",
       "      <td>{u'url': u'http://ia.media-imdb.com/images/M/M...</td>\n",
       "      <td>1208285</td>\n",
       "      <td>8.7</td>\n",
       "      <td>tt0133093</td>\n",
       "      <td>The Matrix</td>\n",
       "      <td>feature</td>\n",
       "      <td>1999</td>\n",
       "    </tr>\n",
       "    <tr>\n",
       "      <th>16</th>\n",
       "      <td>True</td>\n",
       "      <td>{u'url': u'http://ia.media-imdb.com/images/M/M...</td>\n",
       "      <td>722749</td>\n",
       "      <td>8.7</td>\n",
       "      <td>tt0099685</td>\n",
       "      <td>Goodfellas</td>\n",
       "      <td>feature</td>\n",
       "      <td>1990</td>\n",
       "    </tr>\n",
       "    <tr>\n",
       "      <th>15</th>\n",
       "      <td>True</td>\n",
       "      <td>{u'url': u'http://ia.media-imdb.com/images/M/M...</td>\n",
       "      <td>674923</td>\n",
       "      <td>8.7</td>\n",
       "      <td>tt0073486</td>\n",
       "      <td>One Flew Over the Cuckoo's Nest</td>\n",
       "      <td>feature</td>\n",
       "      <td>1975</td>\n",
       "    </tr>\n",
       "    <tr>\n",
       "      <th>37</th>\n",
       "      <td>True</td>\n",
       "      <td>{u'url': u'http://ia.media-imdb.com/images/M/M...</td>\n",
       "      <td>141610</td>\n",
       "      <td>8.6</td>\n",
       "      <td>tt0027977</td>\n",
       "      <td>Modern Times</td>\n",
       "      <td>feature</td>\n",
       "      <td>1936</td>\n",
       "    </tr>\n",
       "    <tr>\n",
       "      <th>36</th>\n",
       "      <td>True</td>\n",
       "      <td>{u'url': u'http://ia.media-imdb.com/images/M/M...</td>\n",
       "      <td>497706</td>\n",
       "      <td>8.6</td>\n",
       "      <td>tt1675434</td>\n",
       "      <td>The Intouchables</td>\n",
       "      <td>feature</td>\n",
       "      <td>2011</td>\n",
       "    </tr>\n",
       "    <tr>\n",
       "      <th>29</th>\n",
       "      <td>True</td>\n",
       "      <td>{u'url': u'http://ia.media-imdb.com/images/M/M...</td>\n",
       "      <td>873781</td>\n",
       "      <td>8.6</td>\n",
       "      <td>tt0120815</td>\n",
       "      <td>Saving Private Ryan</td>\n",
       "      <td>feature</td>\n",
       "      <td>1998</td>\n",
       "    </tr>\n",
       "    <tr>\n",
       "      <th>34</th>\n",
       "      <td>True</td>\n",
       "      <td>{u'url': u'http://ia.media-imdb.com/images/M/M...</td>\n",
       "      <td>107142</td>\n",
       "      <td>8.6</td>\n",
       "      <td>tt0021749</td>\n",
       "      <td>City Lights</td>\n",
       "      <td>feature</td>\n",
       "      <td>1931</td>\n",
       "    </tr>\n",
       "    <tr>\n",
       "      <th>32</th>\n",
       "      <td>True</td>\n",
       "      <td>{u'url': u'http://ia.media-imdb.com/images/M/M...</td>\n",
       "      <td>384950</td>\n",
       "      <td>8.6</td>\n",
       "      <td>tt0034583</td>\n",
       "      <td>Casablanca</td>\n",
       "      <td>feature</td>\n",
       "      <td>1942</td>\n",
       "    </tr>\n",
       "  </tbody>\n",
       "</table>\n",
       "</div>"
      ],
      "text/plain": [
       "   can_rate                                              image  num_votes  \\\n",
       "0      True  {u'url': u'http://ia.media-imdb.com/images/M/M...    1676685   \n",
       "1      True  {u'url': u'http://ia.media-imdb.com/images/M/M...    1147095   \n",
       "2      True  {u'url': u'http://ia.media-imdb.com/images/M/M...     784264   \n",
       "3      True  {u'url': u'http://ia.media-imdb.com/images/M/M...    1661873   \n",
       "7      True  {u'url': u'http://ia.media-imdb.com/images/M/M...    1206574   \n",
       "9      True  {u'url': u'http://ia.media-imdb.com/images/M/M...    1336100   \n",
       "8      True  {u'url': u'http://ia.media-imdb.com/images/M/M...     499611   \n",
       "6      True  {u'url': u'http://ia.media-imdb.com/images/M/M...    1314242   \n",
       "5      True  {u'url': u'http://ia.media-imdb.com/images/M/M...     443388   \n",
       "4      True  {u'url': u'http://ia.media-imdb.com/images/M/M...     858071   \n",
       "10     True  {u'url': u'http://ia.media-imdb.com/images/M/M...    1229882   \n",
       "11     True  {u'url': u'http://ia.media-imdb.com/images/M/M...     830523   \n",
       "12     True  {u'url': u'http://ia.media-imdb.com/images/M/M...    1239762   \n",
       "13     True  {u'url': u'http://ia.media-imdb.com/images/M/M...    1455311   \n",
       "18     True  {u'url': u'http://ia.media-imdb.com/images/M/M...     227402   \n",
       "20     True  {u'url': u'http://ia.media-imdb.com/images/M/M...     529453   \n",
       "19     True  {u'url': u'http://ia.media-imdb.com/images/M/M...     903984   \n",
       "14     True  {u'url': u'http://ia.media-imdb.com/images/M/M...    1091988   \n",
       "17     True  {u'url': u'http://ia.media-imdb.com/images/M/M...    1208285   \n",
       "16     True  {u'url': u'http://ia.media-imdb.com/images/M/M...     722749   \n",
       "15     True  {u'url': u'http://ia.media-imdb.com/images/M/M...     674923   \n",
       "37     True  {u'url': u'http://ia.media-imdb.com/images/M/M...     141610   \n",
       "36     True  {u'url': u'http://ia.media-imdb.com/images/M/M...     497706   \n",
       "29     True  {u'url': u'http://ia.media-imdb.com/images/M/M...     873781   \n",
       "34     True  {u'url': u'http://ia.media-imdb.com/images/M/M...     107142   \n",
       "32     True  {u'url': u'http://ia.media-imdb.com/images/M/M...     384950   \n",
       "\n",
       "    rating     tconst                                              title  \\\n",
       "0      9.3  tt0111161                           The Shawshank Redemption   \n",
       "1      9.2  tt0068646                                      The Godfather   \n",
       "2      9.0  tt0071562                             The Godfather: Part II   \n",
       "3      9.0  tt0468569                                    The Dark Knight   \n",
       "7      8.9  tt0167260      The Lord of the Rings: The Return of the King   \n",
       "9      8.9  tt0137523                                         Fight Club   \n",
       "8      8.9  tt0060196                     The Good, the Bad and the Ugly   \n",
       "6      8.9  tt0110912                                       Pulp Fiction   \n",
       "5      8.9  tt0050083                                       12 Angry Men   \n",
       "4      8.9  tt0108052                                   Schindler's List   \n",
       "10     8.8  tt0120737  The Lord of the Rings: The Fellowship of the Ring   \n",
       "11     8.8  tt0080684     Star Wars: Episode V - The Empire Strikes Back   \n",
       "12     8.8  tt0109830                                       Forrest Gump   \n",
       "13     8.8  tt1375666                                          Inception   \n",
       "18     8.7  tt0047478                                      Seven Samurai   \n",
       "20     8.7  tt0317248                                        City of God   \n",
       "19     8.7  tt0076759                 Star Wars: Episode IV - A New Hope   \n",
       "14     8.7  tt0167261              The Lord of the Rings: The Two Towers   \n",
       "17     8.7  tt0133093                                         The Matrix   \n",
       "16     8.7  tt0099685                                         Goodfellas   \n",
       "15     8.7  tt0073486                    One Flew Over the Cuckoo's Nest   \n",
       "37     8.6  tt0027977                                       Modern Times   \n",
       "36     8.6  tt1675434                                   The Intouchables   \n",
       "29     8.6  tt0120815                                Saving Private Ryan   \n",
       "34     8.6  tt0021749                                        City Lights   \n",
       "32     8.6  tt0034583                                         Casablanca   \n",
       "\n",
       "       type  year  \n",
       "0   feature  1994  \n",
       "1   feature  1972  \n",
       "2   feature  1974  \n",
       "3   feature  2008  \n",
       "7   feature  2003  \n",
       "9   feature  1999  \n",
       "8   feature  1966  \n",
       "6   feature  1994  \n",
       "5   feature  1957  \n",
       "4   feature  1993  \n",
       "10  feature  2001  \n",
       "11  feature  1980  \n",
       "12  feature  1994  \n",
       "13  feature  2010  \n",
       "18  feature  1954  \n",
       "20  feature  2002  \n",
       "19  feature  1977  \n",
       "14  feature  2002  \n",
       "17  feature  1999  \n",
       "16  feature  1990  \n",
       "15  feature  1975  \n",
       "37  feature  1936  \n",
       "36  feature  2011  \n",
       "29  feature  1998  \n",
       "34  feature  1931  \n",
       "32  feature  1942  "
      ]
     },
     "execution_count": 4,
     "metadata": {},
     "output_type": "execute_result"
    }
   ],
   "source": [
    "movies = movies.sort(columns='rating', axis=0, ascending=False)\n",
    "movies = movies[:26]\n",
    "movies"
   ]
  },
  {
   "cell_type": "markdown",
   "metadata": {},
   "source": [
    "#### 4. Write the Results to a csv"
   ]
  },
  {
   "cell_type": "code",
   "execution_count": null,
   "metadata": {
    "collapsed": false
   },
   "outputs": [],
   "source": []
  },
  {
   "cell_type": "markdown",
   "metadata": {},
   "source": [
    "## Part 2: Wrangle the text data"
   ]
  },
  {
   "cell_type": "markdown",
   "metadata": {},
   "source": [
    "#### 1. Convert the listing identification numbers (tconst) from the first dataframe to a list"
   ]
  },
  {
   "cell_type": "code",
   "execution_count": null,
   "metadata": {
    "collapsed": false
   },
   "outputs": [],
   "source": []
  },
  {
   "cell_type": "markdown",
   "metadata": {},
   "source": [
    "#### 2. Scrape the reviews for the top 25 movies"
   ]
  },
  {
   "cell_type": "markdown",
   "metadata": {},
   "source": [
    "*Hint*: Use a loop to scrape each page at once"
   ]
  },
  {
   "cell_type": "code",
   "execution_count": 5,
   "metadata": {
    "collapsed": false
   },
   "outputs": [],
   "source": [
    "#imdb pie has a part where you can get reviews"
   ]
  },
  {
   "cell_type": "markdown",
   "metadata": {},
   "source": [
    "#### 3. Work through each title and find the most common descriptors"
   ]
  },
  {
   "cell_type": "markdown",
   "metadata": {},
   "source": [
    "*Hint*: \"soup\" from BeautifulSoup is the html returned from all 25 pages. You'll need to either address each page individually or break them down by elements"
   ]
  },
  {
   "cell_type": "code",
   "execution_count": null,
   "metadata": {
    "collapsed": false
   },
   "outputs": [],
   "source": []
  },
  {
   "cell_type": "markdown",
   "metadata": {},
   "source": [
    "#### 4. Convert to a string and remove the non AlphaNumeric characters"
   ]
  },
  {
   "cell_type": "markdown",
   "metadata": {},
   "source": [
    "*Hint*: Use regular expressions!"
   ]
  },
  {
   "cell_type": "code",
   "execution_count": null,
   "metadata": {
    "collapsed": false
   },
   "outputs": [],
   "source": []
  },
  {
   "cell_type": "code",
   "execution_count": null,
   "metadata": {
    "collapsed": false
   },
   "outputs": [],
   "source": []
  },
  {
   "cell_type": "markdown",
   "metadata": {},
   "source": [
    "#### 5. Tokenize the Output"
   ]
  },
  {
   "cell_type": "code",
   "execution_count": 6,
   "metadata": {
    "collapsed": false
   },
   "outputs": [],
   "source": [
    "#Take all the words and return them on a list"
   ]
  },
  {
   "cell_type": "markdown",
   "metadata": {},
   "source": [
    "#### 6. Convert to a Dataframe for Easy Viewing"
   ]
  },
  {
   "cell_type": "code",
   "execution_count": null,
   "metadata": {
    "collapsed": true
   },
   "outputs": [],
   "source": []
  },
  {
   "cell_type": "markdown",
   "metadata": {},
   "source": [
    "####  7. Find the rows with the top five descriptive words"
   ]
  },
  {
   "cell_type": "code",
   "execution_count": 7,
   "metadata": {
    "collapsed": true
   },
   "outputs": [],
   "source": [
    "words = ('best', 'hope', 'love', 'beautiful', 'great')"
   ]
  },
  {
   "cell_type": "code",
   "execution_count": null,
   "metadata": {
    "collapsed": true
   },
   "outputs": [],
   "source": []
  },
  {
   "cell_type": "markdown",
   "metadata": {},
   "source": [
    "#### 8. Write the results to a csv"
   ]
  },
  {
   "cell_type": "code",
   "execution_count": null,
   "metadata": {
    "collapsed": true
   },
   "outputs": [],
   "source": []
  },
  {
   "cell_type": "markdown",
   "metadata": {},
   "source": [
    "#### 9. Repeat the process for the other top 24 titles"
   ]
  },
  {
   "cell_type": "markdown",
   "metadata": {},
   "source": [
    "## Part 3: Combine Tables in PostgreSQL"
   ]
  },
  {
   "cell_type": "markdown",
   "metadata": {},
   "source": [
    "#### 1. Import your two .csv data files into your Postgre Database as two different tables"
   ]
  },
  {
   "cell_type": "markdown",
   "metadata": {},
   "source": [
    "For ease, we can call these table1 and table2"
   ]
  },
  {
   "cell_type": "markdown",
   "metadata": {},
   "source": [
    "#### 2. Connect to database and query the joined set"
   ]
  },
  {
   "cell_type": "code",
   "execution_count": null,
   "metadata": {
    "collapsed": true
   },
   "outputs": [],
   "source": []
  },
  {
   "cell_type": "markdown",
   "metadata": {},
   "source": [
    "#### 3. Join the two tables "
   ]
  },
  {
   "cell_type": "code",
   "execution_count": null,
   "metadata": {
    "collapsed": true
   },
   "outputs": [],
   "source": []
  },
  {
   "cell_type": "markdown",
   "metadata": {},
   "source": [
    "#### 4. Select the newly joined table and save two copies of the into dataframes"
   ]
  },
  {
   "cell_type": "code",
   "execution_count": null,
   "metadata": {
    "collapsed": true
   },
   "outputs": [],
   "source": []
  },
  {
   "cell_type": "markdown",
   "metadata": {},
   "source": [
    "## Part 4: Parsing and Exploratory Data Analysis"
   ]
  },
  {
   "cell_type": "markdown",
   "metadata": {},
   "source": [
    "#### 1. Rename the column headings"
   ]
  },
  {
   "cell_type": "code",
   "execution_count": null,
   "metadata": {
    "collapsed": true
   },
   "outputs": [],
   "source": []
  },
  {
   "cell_type": "code",
   "execution_count": null,
   "metadata": {
    "collapsed": true
   },
   "outputs": [],
   "source": []
  },
  {
   "cell_type": "markdown",
   "metadata": {},
   "source": [
    "#### 2. Run a description of the data"
   ]
  },
  {
   "cell_type": "code",
   "execution_count": null,
   "metadata": {
    "collapsed": true
   },
   "outputs": [],
   "source": []
  },
  {
   "cell_type": "markdown",
   "metadata": {
    "collapsed": true
   },
   "source": [
    "#### 3. Visualize the Data"
   ]
  },
  {
   "cell_type": "code",
   "execution_count": null,
   "metadata": {
    "collapsed": true
   },
   "outputs": [],
   "source": []
  },
  {
   "cell_type": "code",
   "execution_count": null,
   "metadata": {
    "collapsed": true
   },
   "outputs": [],
   "source": []
  },
  {
   "cell_type": "code",
   "execution_count": null,
   "metadata": {
    "collapsed": true
   },
   "outputs": [],
   "source": []
  },
  {
   "cell_type": "markdown",
   "metadata": {},
   "source": [
    "## Part 3: Build the Decision Tree"
   ]
  },
  {
   "cell_type": "markdown",
   "metadata": {
    "collapsed": true
   },
   "source": [
    "#### 1. What is our target attribute? "
   ]
  },
  {
   "cell_type": "markdown",
   "metadata": {},
   "source": []
  },
  {
   "cell_type": "markdown",
   "metadata": {},
   "source": [
    "#### 2. Prepare the data and define the training set"
   ]
  },
  {
   "cell_type": "code",
   "execution_count": null,
   "metadata": {
    "collapsed": false
   },
   "outputs": [],
   "source": []
  },
  {
   "cell_type": "code",
   "execution_count": null,
   "metadata": {
    "collapsed": false
   },
   "outputs": [],
   "source": []
  },
  {
   "cell_type": "markdown",
   "metadata": {},
   "source": [
    "#### 2. Train the Model"
   ]
  },
  {
   "cell_type": "code",
   "execution_count": null,
   "metadata": {
    "collapsed": true
   },
   "outputs": [],
   "source": []
  },
  {
   "cell_type": "markdown",
   "metadata": {},
   "source": [
    "#### 3. Set up test data and test the model"
   ]
  },
  {
   "cell_type": "code",
   "execution_count": null,
   "metadata": {
    "collapsed": true
   },
   "outputs": [],
   "source": []
  },
  {
   "cell_type": "markdown",
   "metadata": {},
   "source": [
    "#### 5. Check the results"
   ]
  },
  {
   "cell_type": "code",
   "execution_count": null,
   "metadata": {
    "collapsed": true
   },
   "outputs": [],
   "source": []
  },
  {
   "cell_type": "markdown",
   "metadata": {},
   "source": [
    "#### 6. What is overfitting and how are we at risk? "
   ]
  },
  {
   "cell_type": "markdown",
   "metadata": {},
   "source": []
  }
 ],
 "metadata": {
  "kernelspec": {
   "display_name": "Python 2",
   "language": "python",
   "name": "python2"
  },
  "language_info": {
   "codemirror_mode": {
    "name": "ipython",
    "version": 2
   },
   "file_extension": ".py",
   "mimetype": "text/x-python",
   "name": "python",
   "nbconvert_exporter": "python",
   "pygments_lexer": "ipython2",
   "version": "2.7.12"
  }
 },
 "nbformat": 4,
 "nbformat_minor": 0
}
