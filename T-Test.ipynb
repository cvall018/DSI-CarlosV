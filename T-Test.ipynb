{
 "cells": [
  {
   "cell_type": "code",
   "execution_count": 6,
   "metadata": {
    "collapsed": true
   },
   "outputs": [],
   "source": [
    "import numpy as np\n",
    "import scipy as sp\n",
    "from scipy import stats"
   ]
  },
  {
   "cell_type": "markdown",
   "metadata": {},
   "source": [
    "One Sample T-test\n",
    "\n",
    "One sample t-test is a statistical procedure used to examine the mean difference between the sample and the known value of the population mean. In one sample t-test, we know the population mean. We draw a random sample from the population and then compare the sample mean with the population mean and make a statistical decision as to whether or not the sample mean is different from the population mean.\n",
    "\n",
    "The t-stat tells you how many standard deviations are you from the population mean. The p-value gives you the probability that the sample you took is representative of the population. Basically it tells you if the sample was taken from the population. Good to test when scientist tell you that they took a random sample, one can see if this is really true. ie if you have a low p value then one can be skeptic about it."
   ]
  },
  {
   "cell_type": "code",
   "execution_count": 4,
   "metadata": {
    "collapsed": false
   },
   "outputs": [
    {
     "name": "stdout",
     "output_type": "stream",
     "text": [
      "The mean of our sample is 181.667\n",
      "The t-stat is -1.053 and the p-value is 0.341\n"
     ]
    }
   ],
   "source": [
    "data = [175,183,146,234,199,153]\n",
    "oneSampleT = stats.ttest_1samp(data,195.5)\n",
    "print \"The mean of our sample is %.3f\"% np.mean(data)\n",
    "print 'The t-stat is %.3f and the p-value is %.3f' % oneSampleT"
   ]
  },
  {
   "cell_type": "markdown",
   "metadata": {},
   "source": [
    "Two Sample t-test or Unpaired T-test\n",
    "\n",
    "The two-sample t-test is used to determine if two population means are equal. A common application is to test if a new process or treatment is superior to a current process or treatment."
   ]
  },
  {
   "cell_type": "code",
   "execution_count": 12,
   "metadata": {
    "collapsed": false
   },
   "outputs": [
    {
     "name": "stdout",
     "output_type": "stream",
     "text": [
      "173.333333333 129.333333333 20.1461327968 14.8817561688\n",
      "The t-stat is 4.303 and the p-value is 0.002\n"
     ]
    }
   ],
   "source": [
    "male= [175,183,146,184,199,153]\n",
    "female = [126,143,118,126,151,112]\n",
    "print np.mean(male), np.mean(female),np.std(male,ddof=1),np.std(female,ddof=1)\n",
    "twoSample = stats.ttest_ind(male, female, equal_var=False)\n",
    "print 'The t-stat is %.3f and the p-value is %.3f'%twoSample"
   ]
  },
  {
   "cell_type": "markdown",
   "metadata": {},
   "source": [
    "Paired T-test\n",
    "\n",
    "Paired sample t-test is a statistical technique that is used to compare two population means in the case of two samples that are correlated.  Paired sample t-test is used in ‘before-after’ studies, or when the samples are the matched pairs, or when it is a case-control study.\n",
    "In medicine, by using the paired sample t-test, we can figure out whether or not a particular medicine will cure the illness.\n"
   ]
  },
  {
   "cell_type": "code",
   "execution_count": 19,
   "metadata": {
    "collapsed": false
   },
   "outputs": [
    {
     "name": "stdout",
     "output_type": "stream",
     "text": [
      "132.666666667 119.0\n",
      "The t-stat is -3.194 and the p-value is 0.024\n"
     ]
    }
   ],
   "source": [
    "female = [126,143,118,126,151,132]\n",
    "femaleAfterZumba =[104,132,117,116,121,124]\n",
    "print np.mean(female), np.mean(femaleAfterZumba)\n",
    "pairedTest = stats.ttest_rel(femaleAfterZumba,female)\n",
    "print 'The t-stat is %.3f and the p-value is %.3f' % pairedTest"
   ]
  }
 ],
 "metadata": {
  "kernelspec": {
   "display_name": "Python 2",
   "language": "python",
   "name": "python2"
  },
  "language_info": {
   "codemirror_mode": {
    "name": "ipython",
    "version": 2
   },
   "file_extension": ".py",
   "mimetype": "text/x-python",
   "name": "python",
   "nbconvert_exporter": "python",
   "pygments_lexer": "ipython2",
   "version": "2.7.11"
  }
 },
 "nbformat": 4,
 "nbformat_minor": 0
}
